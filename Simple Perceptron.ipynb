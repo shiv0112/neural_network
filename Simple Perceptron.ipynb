{
 "cells": [
  {
   "cell_type": "markdown",
   "metadata": {},
   "source": [
    "# Simple Perceptron\n",
    "\n",
    "Here,\n",
    "z=w1x1+w2x2+w0x0\n",
    "\n",
    "our activation function would be if z>0 ==> 1 else 0\n",
    "\n",
    "We would take our bias as -1\n",
    "\n",
    "### Perceptron Learning Rule\n",
    "X = X + learning_rate * error * inputs\n"
   ]
  },
  {
   "cell_type": "code",
   "execution_count": 1,
   "metadata": {},
   "outputs": [],
   "source": [
    "import numpy as np\n",
    "import pandas as pd\n",
    "import matplotlib.pyplot as plt\n",
    "\n",
    "plt.style.use(\"fivethirtyeight\")"
   ]
  },
  {
   "cell_type": "code",
   "execution_count": 2,
   "metadata": {},
   "outputs": [],
   "source": [
    "activation_fnc=lambda x,weights: np.where(np.dot(x,weights)>0, 1, 0)"
   ]
  },
  {
   "cell_type": "code",
   "execution_count": 3,
   "metadata": {},
   "outputs": [],
   "source": [
    "class Perceptron:\n",
    "    def __init__(self,eta,epochs,activation_fnc):\n",
    "        self.weights=np.random.randn(3) * 1e-4\n",
    "        self.eta=eta\n",
    "        self.epochs=epochs\n",
    "        self.activation_fnc=activation_fnc\n",
    "        \n",
    "    def fit(self,X,y):\n",
    "        self.X=X\n",
    "        self.y=y\n",
    "        X_bias= np.c_[self.X,-np.ones((len(self.X),1))]\n",
    "        print(f\"Initial X:\\n {self.X}\\n\")\n",
    "        print(f\"Initial y:\\n {self.y}\\n\")\n",
    "        print(f\"Initial X with -1 bias:\\n {X_bias}\\n\")\n",
    "        print(f\"Initial weight = \\n{self.weights}\\n\")\n",
    "        \n",
    "        for i in range(self.epochs):         #W=W+ eta*X_bias*error\n",
    "            print(f\"{i+1} epoch\\n\\n\")\n",
    "            y_hat = activation_fnc(X_bias,self.weights)\n",
    "            print(f\"y predicted = {y_hat}\\n\")\n",
    "            error =  self.y-y_hat \n",
    "            print(f\"error = {error}\")\n",
    "            self.weights = self.weights + self.eta * np.dot(X_bias.T , error)   #transpose of X_bias to produce 3,4 . 4,1 ==> 3,1 matrix\n",
    "            print(f\"adjusted weight = {self.weights}\\n\\n\\n\")\n",
    "            \n",
    "    def predict(self,X):\n",
    "        X_bias = np.c_[self.X,-np.ones((len(self.X),1))]\n",
    "        return(activation_fnc(X_bias,self.weights))\n",
    "        "
   ]
  },
  {
   "cell_type": "markdown",
   "metadata": {},
   "source": [
    "# AND"
   ]
  },
  {
   "cell_type": "code",
   "execution_count": 4,
   "metadata": {},
   "outputs": [
    {
     "data": {
      "text/html": [
       "<div>\n",
       "<style scoped>\n",
       "    .dataframe tbody tr th:only-of-type {\n",
       "        vertical-align: middle;\n",
       "    }\n",
       "\n",
       "    .dataframe tbody tr th {\n",
       "        vertical-align: top;\n",
       "    }\n",
       "\n",
       "    .dataframe thead th {\n",
       "        text-align: right;\n",
       "    }\n",
       "</style>\n",
       "<table border=\"1\" class=\"dataframe\">\n",
       "  <thead>\n",
       "    <tr style=\"text-align: right;\">\n",
       "      <th></th>\n",
       "      <th>x1</th>\n",
       "      <th>x2</th>\n",
       "      <th>y</th>\n",
       "    </tr>\n",
       "  </thead>\n",
       "  <tbody>\n",
       "    <tr>\n",
       "      <th>0</th>\n",
       "      <td>0</td>\n",
       "      <td>0</td>\n",
       "      <td>0</td>\n",
       "    </tr>\n",
       "    <tr>\n",
       "      <th>1</th>\n",
       "      <td>0</td>\n",
       "      <td>1</td>\n",
       "      <td>0</td>\n",
       "    </tr>\n",
       "    <tr>\n",
       "      <th>2</th>\n",
       "      <td>1</td>\n",
       "      <td>0</td>\n",
       "      <td>0</td>\n",
       "    </tr>\n",
       "    <tr>\n",
       "      <th>3</th>\n",
       "      <td>1</td>\n",
       "      <td>1</td>\n",
       "      <td>1</td>\n",
       "    </tr>\n",
       "  </tbody>\n",
       "</table>\n",
       "</div>"
      ],
      "text/plain": [
       "   x1  x2  y\n",
       "0   0   0  0\n",
       "1   0   1  0\n",
       "2   1   0  0\n",
       "3   1   1  1"
      ]
     },
     "execution_count": 4,
     "metadata": {},
     "output_type": "execute_result"
    }
   ],
   "source": [
    "data = {\"x1\": [0,0,1,1], \"x2\": [0,1,0,1], \"y\": [0,0,0,1]}\n",
    "\n",
    "AND = pd.DataFrame(data)\n",
    "AND"
   ]
  },
  {
   "cell_type": "code",
   "execution_count": 5,
   "metadata": {},
   "outputs": [
    {
     "data": {
      "text/html": [
       "<div>\n",
       "<style scoped>\n",
       "    .dataframe tbody tr th:only-of-type {\n",
       "        vertical-align: middle;\n",
       "    }\n",
       "\n",
       "    .dataframe tbody tr th {\n",
       "        vertical-align: top;\n",
       "    }\n",
       "\n",
       "    .dataframe thead th {\n",
       "        text-align: right;\n",
       "    }\n",
       "</style>\n",
       "<table border=\"1\" class=\"dataframe\">\n",
       "  <thead>\n",
       "    <tr style=\"text-align: right;\">\n",
       "      <th></th>\n",
       "      <th>x1</th>\n",
       "      <th>x2</th>\n",
       "    </tr>\n",
       "  </thead>\n",
       "  <tbody>\n",
       "    <tr>\n",
       "      <th>0</th>\n",
       "      <td>0</td>\n",
       "      <td>0</td>\n",
       "    </tr>\n",
       "    <tr>\n",
       "      <th>1</th>\n",
       "      <td>0</td>\n",
       "      <td>1</td>\n",
       "    </tr>\n",
       "    <tr>\n",
       "      <th>2</th>\n",
       "      <td>1</td>\n",
       "      <td>0</td>\n",
       "    </tr>\n",
       "    <tr>\n",
       "      <th>3</th>\n",
       "      <td>1</td>\n",
       "      <td>1</td>\n",
       "    </tr>\n",
       "  </tbody>\n",
       "</table>\n",
       "</div>"
      ],
      "text/plain": [
       "   x1  x2\n",
       "0   0   0\n",
       "1   0   1\n",
       "2   1   0\n",
       "3   1   1"
      ]
     },
     "execution_count": 5,
     "metadata": {},
     "output_type": "execute_result"
    }
   ],
   "source": [
    "X=AND.drop(\"y\",axis=1)\n",
    "X"
   ]
  },
  {
   "cell_type": "code",
   "execution_count": 6,
   "metadata": {},
   "outputs": [
    {
     "data": {
      "text/html": [
       "<div>\n",
       "<style scoped>\n",
       "    .dataframe tbody tr th:only-of-type {\n",
       "        vertical-align: middle;\n",
       "    }\n",
       "\n",
       "    .dataframe tbody tr th {\n",
       "        vertical-align: top;\n",
       "    }\n",
       "\n",
       "    .dataframe thead th {\n",
       "        text-align: right;\n",
       "    }\n",
       "</style>\n",
       "<table border=\"1\" class=\"dataframe\">\n",
       "  <thead>\n",
       "    <tr style=\"text-align: right;\">\n",
       "      <th></th>\n",
       "      <th>y</th>\n",
       "    </tr>\n",
       "  </thead>\n",
       "  <tbody>\n",
       "    <tr>\n",
       "      <th>0</th>\n",
       "      <td>0</td>\n",
       "    </tr>\n",
       "    <tr>\n",
       "      <th>1</th>\n",
       "      <td>0</td>\n",
       "    </tr>\n",
       "    <tr>\n",
       "      <th>2</th>\n",
       "      <td>0</td>\n",
       "    </tr>\n",
       "    <tr>\n",
       "      <th>3</th>\n",
       "      <td>1</td>\n",
       "    </tr>\n",
       "  </tbody>\n",
       "</table>\n",
       "</div>"
      ],
      "text/plain": [
       "   y\n",
       "0  0\n",
       "1  0\n",
       "2  0\n",
       "3  1"
      ]
     },
     "execution_count": 6,
     "metadata": {},
     "output_type": "execute_result"
    }
   ],
   "source": [
    "y=AND[\"y\"] \n",
    "y.to_frame()"
   ]
  },
  {
   "cell_type": "code",
   "execution_count": 7,
   "metadata": {},
   "outputs": [],
   "source": [
    "model = Perceptron(eta=0.5,epochs=7,activation_fnc=activation_fnc)"
   ]
  },
  {
   "cell_type": "code",
   "execution_count": 8,
   "metadata": {},
   "outputs": [
    {
     "name": "stdout",
     "output_type": "stream",
     "text": [
      "Initial X:\n",
      "    x1  x2\n",
      "0   0   0\n",
      "1   0   1\n",
      "2   1   0\n",
      "3   1   1\n",
      "\n",
      "Initial y:\n",
      " 0    0\n",
      "1    0\n",
      "2    0\n",
      "3    1\n",
      "Name: y, dtype: int64\n",
      "\n",
      "Initial X with -1 bias:\n",
      " [[ 0.  0. -1.]\n",
      " [ 0.  1. -1.]\n",
      " [ 1.  0. -1.]\n",
      " [ 1.  1. -1.]]\n",
      "\n",
      "Initial weight = \n",
      "[ 7.47177083e-05 -7.32850367e-05  7.07328054e-05]\n",
      "\n",
      "1 epoch\n",
      "\n",
      "\n",
      "y predicted = [0 0 1 0]\n",
      "\n",
      "error = 0    0\n",
      "1    0\n",
      "2   -1\n",
      "3    1\n",
      "Name: y, dtype: int64\n",
      "adjusted weight = [7.47177083e-05 4.99926715e-01 7.07328054e-05]\n",
      "\n",
      "\n",
      "\n",
      "2 epoch\n",
      "\n",
      "\n",
      "y predicted = [0 1 1 1]\n",
      "\n",
      "error = 0    0\n",
      "1   -1\n",
      "2   -1\n",
      "3    0\n",
      "Name: y, dtype: int64\n",
      "adjusted weight = [-4.99925282e-01 -7.32850367e-05  1.00007073e+00]\n",
      "\n",
      "\n",
      "\n",
      "3 epoch\n",
      "\n",
      "\n",
      "y predicted = [0 0 0 0]\n",
      "\n",
      "error = 0    0\n",
      "1    0\n",
      "2    0\n",
      "3    1\n",
      "Name: y, dtype: int64\n",
      "adjusted weight = [7.47177083e-05 4.99926715e-01 5.00070733e-01]\n",
      "\n",
      "\n",
      "\n",
      "4 epoch\n",
      "\n",
      "\n",
      "y predicted = [0 0 0 0]\n",
      "\n",
      "error = 0    0\n",
      "1    0\n",
      "2    0\n",
      "3    1\n",
      "Name: y, dtype: int64\n",
      "adjusted weight = [5.00074718e-01 9.99926715e-01 7.07328054e-05]\n",
      "\n",
      "\n",
      "\n",
      "5 epoch\n",
      "\n",
      "\n",
      "y predicted = [0 1 1 1]\n",
      "\n",
      "error = 0    0\n",
      "1   -1\n",
      "2   -1\n",
      "3    0\n",
      "Name: y, dtype: int64\n",
      "adjusted weight = [7.47177083e-05 4.99926715e-01 1.00007073e+00]\n",
      "\n",
      "\n",
      "\n",
      "6 epoch\n",
      "\n",
      "\n",
      "y predicted = [0 0 0 0]\n",
      "\n",
      "error = 0    0\n",
      "1    0\n",
      "2    0\n",
      "3    1\n",
      "Name: y, dtype: int64\n",
      "adjusted weight = [0.50007472 0.99992671 0.50007073]\n",
      "\n",
      "\n",
      "\n",
      "7 epoch\n",
      "\n",
      "\n",
      "y predicted = [0 1 1 1]\n",
      "\n",
      "error = 0    0\n",
      "1   -1\n",
      "2   -1\n",
      "3    0\n",
      "Name: y, dtype: int64\n",
      "adjusted weight = [7.47177083e-05 4.99926715e-01 1.50007073e+00]\n",
      "\n",
      "\n",
      "\n"
     ]
    }
   ],
   "source": [
    "model.fit(X,y)"
   ]
  },
  {
   "cell_type": "code",
   "execution_count": 9,
   "metadata": {},
   "outputs": [
    {
     "data": {
      "text/plain": [
       "array([0, 0, 0, 0])"
      ]
     },
     "execution_count": 9,
     "metadata": {},
     "output_type": "execute_result"
    }
   ],
   "source": [
    "model.predict(X)"
   ]
  },
  {
   "cell_type": "code",
   "execution_count": 10,
   "metadata": {},
   "outputs": [
    {
     "data": {
      "text/plain": [
       "[<matplotlib.lines.Line2D at 0x1f3510d83d0>]"
      ]
     },
     "execution_count": 10,
     "metadata": {},
     "output_type": "execute_result"
    },
    {
     "data": {
      "image/png": "[encoded data removed]",
      "text/plain": [
       "<Figure size 432x288 with 2 Axes>"
      ]
     },
     "metadata": {},
     "output_type": "display_data"
    }
   ],
   "source": [
    "AND.plot(kind='scatter',x='x1',y='x2',c='y',s=50, cmap='winter')\n",
    "plt.axhline(y=0, color='black',linestyle='--',linewidth=2)\n",
    "plt.axvline(x=0, color='black',linestyle='--',linewidth=2)\n",
    "\n",
    "plt.plot(np.linspace(0,1.4),1.5-1*np.linspace(0,1.4),\"g--\")"
   ]
  },
  {
   "cell_type": "markdown",
   "metadata": {},
   "source": [
    "# OR"
   ]
  },
  {
   "cell_type": "code",
   "execution_count": 11,
   "metadata": {},
   "outputs": [
    {
     "data": {
      "text/html": [
       "<div>\n",
       "<style scoped>\n",
       "    .dataframe tbody tr th:only-of-type {\n",
       "        vertical-align: middle;\n",
       "    }\n",
       "\n",
       "    .dataframe tbody tr th {\n",
       "        vertical-align: top;\n",
       "    }\n",
       "\n",
       "    .dataframe thead th {\n",
       "        text-align: right;\n",
       "    }\n",
       "</style>\n",
       "<table border=\"1\" class=\"dataframe\">\n",
       "  <thead>\n",
       "    <tr style=\"text-align: right;\">\n",
       "      <th></th>\n",
       "      <th>x1</th>\n",
       "      <th>x2</th>\n",
       "      <th>y</th>\n",
       "    </tr>\n",
       "  </thead>\n",
       "  <tbody>\n",
       "    <tr>\n",
       "      <th>0</th>\n",
       "      <td>0</td>\n",
       "      <td>0</td>\n",
       "      <td>0</td>\n",
       "    </tr>\n",
       "    <tr>\n",
       "      <th>1</th>\n",
       "      <td>0</td>\n",
       "      <td>1</td>\n",
       "      <td>1</td>\n",
       "    </tr>\n",
       "    <tr>\n",
       "      <th>2</th>\n",
       "      <td>1</td>\n",
       "      <td>0</td>\n",
       "      <td>1</td>\n",
       "    </tr>\n",
       "    <tr>\n",
       "      <th>3</th>\n",
       "      <td>1</td>\n",
       "      <td>1</td>\n",
       "      <td>1</td>\n",
       "    </tr>\n",
       "  </tbody>\n",
       "</table>\n",
       "</div>"
      ],
      "text/plain": [
       "   x1  x2  y\n",
       "0   0   0  0\n",
       "1   0   1  1\n",
       "2   1   0  1\n",
       "3   1   1  1"
      ]
     },
     "execution_count": 11,
     "metadata": {},
     "output_type": "execute_result"
    }
   ],
   "source": [
    "data = {\"x1\": [0,0,1,1], \"x2\": [0,1,0,1], \"y\": [0,1,1,1]}\n",
    "OR = pd.DataFrame(data)\n",
    "OR"
   ]
  },
  {
   "cell_type": "code",
   "execution_count": 12,
   "metadata": {},
   "outputs": [
    {
     "name": "stdout",
     "output_type": "stream",
     "text": [
      "Initial X:\n",
      "    x1  x2\n",
      "0   0   0\n",
      "1   0   1\n",
      "2   1   0\n",
      "3   1   1\n",
      "\n",
      "Initial y:\n",
      " 0    0\n",
      "1    1\n",
      "2    1\n",
      "3    1\n",
      "Name: y, dtype: int64\n",
      "\n",
      "Initial X with -1 bias:\n",
      " [[ 0.  0. -1.]\n",
      " [ 0.  1. -1.]\n",
      " [ 1.  0. -1.]\n",
      " [ 1.  1. -1.]]\n",
      "\n",
      "Initial weight = \n",
      "[ 6.27665802e-05 -5.98651794e-06  2.13145539e-05]\n",
      "\n",
      "1 epoch\n",
      "\n",
      "\n",
      "y predicted = [0 0 1 1]\n",
      "\n",
      "error = 0    0\n",
      "1    1\n",
      "2    0\n",
      "3    0\n",
      "Name: y, dtype: int64\n",
      "adjusted weight = [ 6.27665802e-05  4.99994013e-01 -4.99978685e-01]\n",
      "\n",
      "\n",
      "\n",
      "2 epoch\n",
      "\n",
      "\n",
      "y predicted = [1 1 1 1]\n",
      "\n",
      "error = 0   -1\n",
      "1    0\n",
      "2    0\n",
      "3    0\n",
      "Name: y, dtype: int64\n",
      "adjusted weight = [6.27665802e-05 4.99994013e-01 2.13145539e-05]\n",
      "\n",
      "\n",
      "\n",
      "3 epoch\n",
      "\n",
      "\n",
      "y predicted = [0 1 1 1]\n",
      "\n",
      "error = 0    0\n",
      "1    0\n",
      "2    0\n",
      "3    0\n",
      "Name: y, dtype: int64\n",
      "adjusted weight = [6.27665802e-05 4.99994013e-01 2.13145539e-05]\n",
      "\n",
      "\n",
      "\n",
      "4 epoch\n",
      "\n",
      "\n",
      "y predicted = [0 1 1 1]\n",
      "\n",
      "error = 0    0\n",
      "1    0\n",
      "2    0\n",
      "3    0\n",
      "Name: y, dtype: int64\n",
      "adjusted weight = [6.27665802e-05 4.99994013e-01 2.13145539e-05]\n",
      "\n",
      "\n",
      "\n",
      "5 epoch\n",
      "\n",
      "\n",
      "y predicted = [0 1 1 1]\n",
      "\n",
      "error = 0    0\n",
      "1    0\n",
      "2    0\n",
      "3    0\n",
      "Name: y, dtype: int64\n",
      "adjusted weight = [6.27665802e-05 4.99994013e-01 2.13145539e-05]\n",
      "\n",
      "\n",
      "\n",
      "6 epoch\n",
      "\n",
      "\n",
      "y predicted = [0 1 1 1]\n",
      "\n",
      "error = 0    0\n",
      "1    0\n",
      "2    0\n",
      "3    0\n",
      "Name: y, dtype: int64\n",
      "adjusted weight = [6.27665802e-05 4.99994013e-01 2.13145539e-05]\n",
      "\n",
      "\n",
      "\n",
      "7 epoch\n",
      "\n",
      "\n",
      "y predicted = [0 1 1 1]\n",
      "\n",
      "error = 0    0\n",
      "1    0\n",
      "2    0\n",
      "3    0\n",
      "Name: y, dtype: int64\n",
      "adjusted weight = [6.27665802e-05 4.99994013e-01 2.13145539e-05]\n",
      "\n",
      "\n",
      "\n"
     ]
    }
   ],
   "source": [
    "X=OR.drop(\"y\",axis=1)\n",
    "y=OR[\"y\"]\n",
    "model=Perceptron(eta=0.5,epochs=7,activation_fnc=activation_fnc)\n",
    "model.fit(X,y)"
   ]
  },
  {
   "cell_type": "code",
   "execution_count": 13,
   "metadata": {},
   "outputs": [
    {
     "data": {
      "text/plain": [
       "array([0, 1, 1, 1])"
      ]
     },
     "execution_count": 13,
     "metadata": {},
     "output_type": "execute_result"
    }
   ],
   "source": [
    "model.predict(X)"
   ]
  },
  {
   "cell_type": "code",
   "execution_count": 14,
   "metadata": {},
   "outputs": [
    {
     "data": {
      "text/plain": [
       "[<matplotlib.lines.Line2D at 0x1f351220a60>]"
      ]
     },
     "execution_count": 14,
     "metadata": {},
     "output_type": "execute_result"
    },
    {
     "data": {
      "image/png": "[encoded data removed]",
      "text/plain": [
       "<Figure size 432x288 with 2 Axes>"
      ]
     },
     "metadata": {},
     "output_type": "display_data"
    }
   ],
   "source": [
    "OR.plot(kind='scatter',x='x1',y='x2',c='y',s=50,cmap='winter')\n",
    "plt.axhline(y=0, color='black',linestyle='--',linewidth=2)\n",
    "plt.axvline(x=0, color='black',linestyle='--',linewidth=2)\n",
    "\n",
    "plt.plot(np.linspace(0,0.5),0.4-np.linspace(0,0.5),\"g--\")"
   ]
  },
  {
   "cell_type": "code",
   "execution_count": null,
   "metadata": {},
   "outputs": [],
   "source": []
  }
 ],
 "metadata": {
  "kernelspec": {
   "display_name": "Python 3",
   "language": "python",
   "name": "python3"
  },
  "language_info": {
   "codemirror_mode": {
    "name": "ipython",
    "version": 3
   },
   "file_extension": ".py",
   "mimetype": "text/x-python",
   "name": "python",
   "nbconvert_exporter": "python",
   "pygments_lexer": "ipython3",
   "version": "3.8.5"
  }
 },
 "nbformat": 4,
 "nbformat_minor": 4
}
